{
 "cells": [
  {
   "cell_type": "code",
   "execution_count": 25,
   "id": "33a65684-6376-4686-ad16-2312c285e8da",
   "metadata": {},
   "outputs": [],
   "source": [
    "#https://www.datacamp.com/tutorial/xgboost-in-python\n",
    "#https://machinelearningmastery.com/avoid-overfitting-by-early-stopping-with-xgboost-in-python/\n",
    "#https://machinelearningmastery.com/tune-number-size-decision-trees-xgboost-python/ for n_estimators\n",
    "#eval_metric: rmse for regression, and logloss for classification (assigned by XGBoost by default based on the predictor)\n",
    "\n",
    "#Objective candidate: survival:aft\n",
    "#Objective candidate: binary:hinge\n",
    "#Objective candidate: multi:softmax\n",
    "#Objective candidate: multi:softprob\n",
    "#Objective candidate: rank:pairwise\n",
    "#Objective candidate: rank:ndcg\n",
    "#Objective candidate: rank:map\n",
    "#Objective candidate: reg:squarederror\n",
    "#Objective candidate: reg:squaredlogerror\n",
    "#Objective candidate: reg:logistic\n",
    "#Objective candidate: binary:logistic\n",
    "#Objective candidate: binary:logitraw\n",
    "#Objective candidate: reg:linear\n",
    "#Objective candidate: reg:pseudohubererror\n",
    "#Objective candidate: count:poisson\n",
    "#Objective candidate: survival:cox\n",
    "#Objective candidate: reg:gamma\n",
    "#Objective candidate: reg:tweedie\n",
    "#Objective candidate: reg:absoluteerror"
   ]
  },
  {
   "cell_type": "code",
   "execution_count": 26,
   "id": "bf416252-0802-4b15-b3a7-faf19be28793",
   "metadata": {},
   "outputs": [],
   "source": [
    "import numpy as np\n",
    "import pandas as pd\n",
    "import xgboost as xgb\n",
    "from matplotlib import pyplot as plt \n",
    "from sklearn.model_selection import train_test_split\n",
    "from sklearn.metrics import mean_squared_error\n",
    "from sklearn.metrics import accuracy_score"
   ]
  },
  {
   "cell_type": "code",
   "execution_count": 27,
   "id": "fd7596f5-7067-467b-82b3-219a9175db1b",
   "metadata": {},
   "outputs": [],
   "source": [
    "df = pd.read_csv(\"diamonds.csv\", sep=\",\", header=0)"
   ]
  },
  {
   "cell_type": "code",
   "execution_count": 48,
   "id": "54aee0aa-8ec0-49fa-8bc4-5ae68dd7f81f",
   "metadata": {},
   "outputs": [
    {
     "data": {
      "text/html": [
       "<div>\n",
       "<style scoped>\n",
       "    .dataframe tbody tr th:only-of-type {\n",
       "        vertical-align: middle;\n",
       "    }\n",
       "\n",
       "    .dataframe tbody tr th {\n",
       "        vertical-align: top;\n",
       "    }\n",
       "\n",
       "    .dataframe thead th {\n",
       "        text-align: right;\n",
       "    }\n",
       "</style>\n",
       "<table border=\"1\" class=\"dataframe\">\n",
       "  <thead>\n",
       "    <tr style=\"text-align: right;\">\n",
       "      <th></th>\n",
       "      <th>carat</th>\n",
       "      <th>cut</th>\n",
       "      <th>color</th>\n",
       "      <th>clarity</th>\n",
       "      <th>depth</th>\n",
       "      <th>table</th>\n",
       "      <th>price</th>\n",
       "      <th>x</th>\n",
       "      <th>y</th>\n",
       "      <th>z</th>\n",
       "    </tr>\n",
       "  </thead>\n",
       "  <tbody>\n",
       "    <tr>\n",
       "      <th>0</th>\n",
       "      <td>0.23</td>\n",
       "      <td>Ideal</td>\n",
       "      <td>E</td>\n",
       "      <td>SI2</td>\n",
       "      <td>61.5</td>\n",
       "      <td>55.0</td>\n",
       "      <td>326</td>\n",
       "      <td>3.95</td>\n",
       "      <td>3.98</td>\n",
       "      <td>2.43</td>\n",
       "    </tr>\n",
       "    <tr>\n",
       "      <th>1</th>\n",
       "      <td>0.21</td>\n",
       "      <td>Premium</td>\n",
       "      <td>E</td>\n",
       "      <td>SI1</td>\n",
       "      <td>59.8</td>\n",
       "      <td>61.0</td>\n",
       "      <td>326</td>\n",
       "      <td>3.89</td>\n",
       "      <td>3.84</td>\n",
       "      <td>2.31</td>\n",
       "    </tr>\n",
       "    <tr>\n",
       "      <th>2</th>\n",
       "      <td>0.23</td>\n",
       "      <td>Good</td>\n",
       "      <td>E</td>\n",
       "      <td>VS1</td>\n",
       "      <td>56.9</td>\n",
       "      <td>65.0</td>\n",
       "      <td>327</td>\n",
       "      <td>4.05</td>\n",
       "      <td>4.07</td>\n",
       "      <td>2.31</td>\n",
       "    </tr>\n",
       "    <tr>\n",
       "      <th>3</th>\n",
       "      <td>0.29</td>\n",
       "      <td>Premium</td>\n",
       "      <td>I</td>\n",
       "      <td>VS2</td>\n",
       "      <td>62.4</td>\n",
       "      <td>58.0</td>\n",
       "      <td>334</td>\n",
       "      <td>4.20</td>\n",
       "      <td>4.23</td>\n",
       "      <td>2.63</td>\n",
       "    </tr>\n",
       "    <tr>\n",
       "      <th>4</th>\n",
       "      <td>0.31</td>\n",
       "      <td>Good</td>\n",
       "      <td>J</td>\n",
       "      <td>SI2</td>\n",
       "      <td>63.3</td>\n",
       "      <td>58.0</td>\n",
       "      <td>335</td>\n",
       "      <td>4.34</td>\n",
       "      <td>4.35</td>\n",
       "      <td>2.75</td>\n",
       "    </tr>\n",
       "    <tr>\n",
       "      <th>5</th>\n",
       "      <td>0.24</td>\n",
       "      <td>Very Good</td>\n",
       "      <td>J</td>\n",
       "      <td>VVS2</td>\n",
       "      <td>62.8</td>\n",
       "      <td>57.0</td>\n",
       "      <td>336</td>\n",
       "      <td>3.94</td>\n",
       "      <td>3.96</td>\n",
       "      <td>2.48</td>\n",
       "    </tr>\n",
       "    <tr>\n",
       "      <th>6</th>\n",
       "      <td>0.24</td>\n",
       "      <td>Very Good</td>\n",
       "      <td>I</td>\n",
       "      <td>VVS1</td>\n",
       "      <td>62.3</td>\n",
       "      <td>57.0</td>\n",
       "      <td>336</td>\n",
       "      <td>3.95</td>\n",
       "      <td>3.98</td>\n",
       "      <td>2.47</td>\n",
       "    </tr>\n",
       "    <tr>\n",
       "      <th>7</th>\n",
       "      <td>0.26</td>\n",
       "      <td>Very Good</td>\n",
       "      <td>H</td>\n",
       "      <td>SI1</td>\n",
       "      <td>61.9</td>\n",
       "      <td>55.0</td>\n",
       "      <td>337</td>\n",
       "      <td>4.07</td>\n",
       "      <td>4.11</td>\n",
       "      <td>2.53</td>\n",
       "    </tr>\n",
       "    <tr>\n",
       "      <th>8</th>\n",
       "      <td>0.22</td>\n",
       "      <td>Fair</td>\n",
       "      <td>E</td>\n",
       "      <td>VS2</td>\n",
       "      <td>65.1</td>\n",
       "      <td>61.0</td>\n",
       "      <td>337</td>\n",
       "      <td>3.87</td>\n",
       "      <td>3.78</td>\n",
       "      <td>2.49</td>\n",
       "    </tr>\n",
       "    <tr>\n",
       "      <th>9</th>\n",
       "      <td>0.23</td>\n",
       "      <td>Very Good</td>\n",
       "      <td>H</td>\n",
       "      <td>VS1</td>\n",
       "      <td>59.4</td>\n",
       "      <td>61.0</td>\n",
       "      <td>338</td>\n",
       "      <td>4.00</td>\n",
       "      <td>4.05</td>\n",
       "      <td>2.39</td>\n",
       "    </tr>\n",
       "    <tr>\n",
       "      <th>10</th>\n",
       "      <td>0.30</td>\n",
       "      <td>Good</td>\n",
       "      <td>J</td>\n",
       "      <td>SI1</td>\n",
       "      <td>64.0</td>\n",
       "      <td>55.0</td>\n",
       "      <td>339</td>\n",
       "      <td>4.25</td>\n",
       "      <td>4.28</td>\n",
       "      <td>2.73</td>\n",
       "    </tr>\n",
       "    <tr>\n",
       "      <th>11</th>\n",
       "      <td>0.23</td>\n",
       "      <td>Ideal</td>\n",
       "      <td>J</td>\n",
       "      <td>VS1</td>\n",
       "      <td>62.8</td>\n",
       "      <td>56.0</td>\n",
       "      <td>340</td>\n",
       "      <td>3.93</td>\n",
       "      <td>3.90</td>\n",
       "      <td>2.46</td>\n",
       "    </tr>\n",
       "    <tr>\n",
       "      <th>12</th>\n",
       "      <td>0.22</td>\n",
       "      <td>Premium</td>\n",
       "      <td>F</td>\n",
       "      <td>SI1</td>\n",
       "      <td>60.4</td>\n",
       "      <td>61.0</td>\n",
       "      <td>342</td>\n",
       "      <td>3.88</td>\n",
       "      <td>3.84</td>\n",
       "      <td>2.33</td>\n",
       "    </tr>\n",
       "    <tr>\n",
       "      <th>13</th>\n",
       "      <td>0.31</td>\n",
       "      <td>Ideal</td>\n",
       "      <td>J</td>\n",
       "      <td>SI2</td>\n",
       "      <td>62.2</td>\n",
       "      <td>54.0</td>\n",
       "      <td>344</td>\n",
       "      <td>4.35</td>\n",
       "      <td>4.37</td>\n",
       "      <td>2.71</td>\n",
       "    </tr>\n",
       "    <tr>\n",
       "      <th>14</th>\n",
       "      <td>0.20</td>\n",
       "      <td>Premium</td>\n",
       "      <td>E</td>\n",
       "      <td>SI2</td>\n",
       "      <td>60.2</td>\n",
       "      <td>62.0</td>\n",
       "      <td>345</td>\n",
       "      <td>3.79</td>\n",
       "      <td>3.75</td>\n",
       "      <td>2.27</td>\n",
       "    </tr>\n",
       "    <tr>\n",
       "      <th>15</th>\n",
       "      <td>0.32</td>\n",
       "      <td>Premium</td>\n",
       "      <td>E</td>\n",
       "      <td>I1</td>\n",
       "      <td>60.9</td>\n",
       "      <td>58.0</td>\n",
       "      <td>345</td>\n",
       "      <td>4.38</td>\n",
       "      <td>4.42</td>\n",
       "      <td>2.68</td>\n",
       "    </tr>\n",
       "    <tr>\n",
       "      <th>16</th>\n",
       "      <td>0.30</td>\n",
       "      <td>Ideal</td>\n",
       "      <td>I</td>\n",
       "      <td>SI2</td>\n",
       "      <td>62.0</td>\n",
       "      <td>54.0</td>\n",
       "      <td>348</td>\n",
       "      <td>4.31</td>\n",
       "      <td>4.34</td>\n",
       "      <td>2.68</td>\n",
       "    </tr>\n",
       "    <tr>\n",
       "      <th>17</th>\n",
       "      <td>0.30</td>\n",
       "      <td>Good</td>\n",
       "      <td>J</td>\n",
       "      <td>SI1</td>\n",
       "      <td>63.4</td>\n",
       "      <td>54.0</td>\n",
       "      <td>351</td>\n",
       "      <td>4.23</td>\n",
       "      <td>4.29</td>\n",
       "      <td>2.70</td>\n",
       "    </tr>\n",
       "    <tr>\n",
       "      <th>18</th>\n",
       "      <td>0.30</td>\n",
       "      <td>Good</td>\n",
       "      <td>J</td>\n",
       "      <td>SI1</td>\n",
       "      <td>63.8</td>\n",
       "      <td>56.0</td>\n",
       "      <td>351</td>\n",
       "      <td>4.23</td>\n",
       "      <td>4.26</td>\n",
       "      <td>2.71</td>\n",
       "    </tr>\n",
       "    <tr>\n",
       "      <th>19</th>\n",
       "      <td>0.30</td>\n",
       "      <td>Very Good</td>\n",
       "      <td>J</td>\n",
       "      <td>SI1</td>\n",
       "      <td>62.7</td>\n",
       "      <td>59.0</td>\n",
       "      <td>351</td>\n",
       "      <td>4.21</td>\n",
       "      <td>4.27</td>\n",
       "      <td>2.66</td>\n",
       "    </tr>\n",
       "  </tbody>\n",
       "</table>\n",
       "</div>"
      ],
      "text/plain": [
       "    carat        cut color clarity  depth  table  price     x     y     z\n",
       "0    0.23      Ideal     E     SI2   61.5   55.0    326  3.95  3.98  2.43\n",
       "1    0.21    Premium     E     SI1   59.8   61.0    326  3.89  3.84  2.31\n",
       "2    0.23       Good     E     VS1   56.9   65.0    327  4.05  4.07  2.31\n",
       "3    0.29    Premium     I     VS2   62.4   58.0    334  4.20  4.23  2.63\n",
       "4    0.31       Good     J     SI2   63.3   58.0    335  4.34  4.35  2.75\n",
       "5    0.24  Very Good     J    VVS2   62.8   57.0    336  3.94  3.96  2.48\n",
       "6    0.24  Very Good     I    VVS1   62.3   57.0    336  3.95  3.98  2.47\n",
       "7    0.26  Very Good     H     SI1   61.9   55.0    337  4.07  4.11  2.53\n",
       "8    0.22       Fair     E     VS2   65.1   61.0    337  3.87  3.78  2.49\n",
       "9    0.23  Very Good     H     VS1   59.4   61.0    338  4.00  4.05  2.39\n",
       "10   0.30       Good     J     SI1   64.0   55.0    339  4.25  4.28  2.73\n",
       "11   0.23      Ideal     J     VS1   62.8   56.0    340  3.93  3.90  2.46\n",
       "12   0.22    Premium     F     SI1   60.4   61.0    342  3.88  3.84  2.33\n",
       "13   0.31      Ideal     J     SI2   62.2   54.0    344  4.35  4.37  2.71\n",
       "14   0.20    Premium     E     SI2   60.2   62.0    345  3.79  3.75  2.27\n",
       "15   0.32    Premium     E      I1   60.9   58.0    345  4.38  4.42  2.68\n",
       "16   0.30      Ideal     I     SI2   62.0   54.0    348  4.31  4.34  2.68\n",
       "17   0.30       Good     J     SI1   63.4   54.0    351  4.23  4.29  2.70\n",
       "18   0.30       Good     J     SI1   63.8   56.0    351  4.23  4.26  2.71\n",
       "19   0.30  Very Good     J     SI1   62.7   59.0    351  4.21  4.27  2.66"
      ]
     },
     "execution_count": 48,
     "metadata": {},
     "output_type": "execute_result"
    }
   ],
   "source": [
    "df.head(20)\n",
    "#Notice that cut, color, and clairty are object types. We can see with the eye that they are categorical\n",
    "#So we will convert them to \"categorty\" data types later on\n",
    "#We can check it with df.dtypes as the below"
   ]
  },
  {
   "cell_type": "code",
   "execution_count": 29,
   "id": "1716df9a-a2b0-435d-aa2b-a918914c5398",
   "metadata": {},
   "outputs": [
    {
     "data": {
      "text/plain": [
       "carat      float64\n",
       "cut         object\n",
       "color       object\n",
       "clarity     object\n",
       "depth      float64\n",
       "table      float64\n",
       "price        int64\n",
       "x          float64\n",
       "y          float64\n",
       "z          float64\n",
       "dtype: object"
      ]
     },
     "execution_count": 29,
     "metadata": {},
     "output_type": "execute_result"
    }
   ],
   "source": [
    "df.dtypes"
   ]
  },
  {
   "cell_type": "code",
   "execution_count": 30,
   "id": "3710ab09-1a67-4820-9fd3-5add46323e3a",
   "metadata": {},
   "outputs": [
    {
     "data": {
      "text/plain": [
       "(53940, 10)"
      ]
     },
     "execution_count": 30,
     "metadata": {},
     "output_type": "execute_result"
    }
   ],
   "source": [
    "df.shape #rows, columns"
   ]
  },
  {
   "cell_type": "code",
   "execution_count": 31,
   "id": "357bdbc0-c615-4534-bb79-7127413674d5",
   "metadata": {},
   "outputs": [
    {
     "data": {
      "text/html": [
       "<div>\n",
       "<style scoped>\n",
       "    .dataframe tbody tr th:only-of-type {\n",
       "        vertical-align: middle;\n",
       "    }\n",
       "\n",
       "    .dataframe tbody tr th {\n",
       "        vertical-align: top;\n",
       "    }\n",
       "\n",
       "    .dataframe thead th {\n",
       "        text-align: right;\n",
       "    }\n",
       "</style>\n",
       "<table border=\"1\" class=\"dataframe\">\n",
       "  <thead>\n",
       "    <tr style=\"text-align: right;\">\n",
       "      <th></th>\n",
       "      <th>carat</th>\n",
       "      <th>depth</th>\n",
       "      <th>table</th>\n",
       "      <th>price</th>\n",
       "      <th>x</th>\n",
       "      <th>y</th>\n",
       "      <th>z</th>\n",
       "    </tr>\n",
       "  </thead>\n",
       "  <tbody>\n",
       "    <tr>\n",
       "      <th>count</th>\n",
       "      <td>53940.000000</td>\n",
       "      <td>53940.000000</td>\n",
       "      <td>53940.000000</td>\n",
       "      <td>53940.000000</td>\n",
       "      <td>53940.000000</td>\n",
       "      <td>53940.000000</td>\n",
       "      <td>53940.000000</td>\n",
       "    </tr>\n",
       "    <tr>\n",
       "      <th>mean</th>\n",
       "      <td>0.797940</td>\n",
       "      <td>61.749405</td>\n",
       "      <td>57.457184</td>\n",
       "      <td>3932.799722</td>\n",
       "      <td>5.731157</td>\n",
       "      <td>5.734526</td>\n",
       "      <td>3.538734</td>\n",
       "    </tr>\n",
       "    <tr>\n",
       "      <th>std</th>\n",
       "      <td>0.474011</td>\n",
       "      <td>1.432621</td>\n",
       "      <td>2.234491</td>\n",
       "      <td>3989.439738</td>\n",
       "      <td>1.121761</td>\n",
       "      <td>1.142135</td>\n",
       "      <td>0.705699</td>\n",
       "    </tr>\n",
       "    <tr>\n",
       "      <th>min</th>\n",
       "      <td>0.200000</td>\n",
       "      <td>43.000000</td>\n",
       "      <td>43.000000</td>\n",
       "      <td>326.000000</td>\n",
       "      <td>0.000000</td>\n",
       "      <td>0.000000</td>\n",
       "      <td>0.000000</td>\n",
       "    </tr>\n",
       "    <tr>\n",
       "      <th>25%</th>\n",
       "      <td>0.400000</td>\n",
       "      <td>61.000000</td>\n",
       "      <td>56.000000</td>\n",
       "      <td>950.000000</td>\n",
       "      <td>4.710000</td>\n",
       "      <td>4.720000</td>\n",
       "      <td>2.910000</td>\n",
       "    </tr>\n",
       "    <tr>\n",
       "      <th>50%</th>\n",
       "      <td>0.700000</td>\n",
       "      <td>61.800000</td>\n",
       "      <td>57.000000</td>\n",
       "      <td>2401.000000</td>\n",
       "      <td>5.700000</td>\n",
       "      <td>5.710000</td>\n",
       "      <td>3.530000</td>\n",
       "    </tr>\n",
       "    <tr>\n",
       "      <th>75%</th>\n",
       "      <td>1.040000</td>\n",
       "      <td>62.500000</td>\n",
       "      <td>59.000000</td>\n",
       "      <td>5324.250000</td>\n",
       "      <td>6.540000</td>\n",
       "      <td>6.540000</td>\n",
       "      <td>4.040000</td>\n",
       "    </tr>\n",
       "    <tr>\n",
       "      <th>max</th>\n",
       "      <td>5.010000</td>\n",
       "      <td>79.000000</td>\n",
       "      <td>95.000000</td>\n",
       "      <td>18823.000000</td>\n",
       "      <td>10.740000</td>\n",
       "      <td>58.900000</td>\n",
       "      <td>31.800000</td>\n",
       "    </tr>\n",
       "  </tbody>\n",
       "</table>\n",
       "</div>"
      ],
      "text/plain": [
       "              carat         depth         table         price             x  \\\n",
       "count  53940.000000  53940.000000  53940.000000  53940.000000  53940.000000   \n",
       "mean       0.797940     61.749405     57.457184   3932.799722      5.731157   \n",
       "std        0.474011      1.432621      2.234491   3989.439738      1.121761   \n",
       "min        0.200000     43.000000     43.000000    326.000000      0.000000   \n",
       "25%        0.400000     61.000000     56.000000    950.000000      4.710000   \n",
       "50%        0.700000     61.800000     57.000000   2401.000000      5.700000   \n",
       "75%        1.040000     62.500000     59.000000   5324.250000      6.540000   \n",
       "max        5.010000     79.000000     95.000000  18823.000000     10.740000   \n",
       "\n",
       "                  y             z  \n",
       "count  53940.000000  53940.000000  \n",
       "mean       5.734526      3.538734  \n",
       "std        1.142135      0.705699  \n",
       "min        0.000000      0.000000  \n",
       "25%        4.720000      2.910000  \n",
       "50%        5.710000      3.530000  \n",
       "75%        6.540000      4.040000  \n",
       "max       58.900000     31.800000  "
      ]
     },
     "execution_count": 31,
     "metadata": {},
     "output_type": "execute_result"
    }
   ],
   "source": [
    "df.describe()"
   ]
  },
  {
   "cell_type": "code",
   "execution_count": 32,
   "id": "99b03240-50d1-40b3-918a-30c299e5eff5",
   "metadata": {},
   "outputs": [
    {
     "data": {
      "text/html": [
       "<div>\n",
       "<style scoped>\n",
       "    .dataframe tbody tr th:only-of-type {\n",
       "        vertical-align: middle;\n",
       "    }\n",
       "\n",
       "    .dataframe tbody tr th {\n",
       "        vertical-align: top;\n",
       "    }\n",
       "\n",
       "    .dataframe thead th {\n",
       "        text-align: right;\n",
       "    }\n",
       "</style>\n",
       "<table border=\"1\" class=\"dataframe\">\n",
       "  <thead>\n",
       "    <tr style=\"text-align: right;\">\n",
       "      <th></th>\n",
       "      <th>cut</th>\n",
       "      <th>color</th>\n",
       "      <th>clarity</th>\n",
       "    </tr>\n",
       "  </thead>\n",
       "  <tbody>\n",
       "    <tr>\n",
       "      <th>count</th>\n",
       "      <td>53940</td>\n",
       "      <td>53940</td>\n",
       "      <td>53940</td>\n",
       "    </tr>\n",
       "    <tr>\n",
       "      <th>unique</th>\n",
       "      <td>5</td>\n",
       "      <td>7</td>\n",
       "      <td>8</td>\n",
       "    </tr>\n",
       "    <tr>\n",
       "      <th>top</th>\n",
       "      <td>Ideal</td>\n",
       "      <td>G</td>\n",
       "      <td>SI1</td>\n",
       "    </tr>\n",
       "    <tr>\n",
       "      <th>freq</th>\n",
       "      <td>21551</td>\n",
       "      <td>11292</td>\n",
       "      <td>13065</td>\n",
       "    </tr>\n",
       "  </tbody>\n",
       "</table>\n",
       "</div>"
      ],
      "text/plain": [
       "          cut  color clarity\n",
       "count   53940  53940   53940\n",
       "unique      5      7       8\n",
       "top     Ideal      G     SI1\n",
       "freq    21551  11292   13065"
      ]
     },
     "execution_count": 32,
     "metadata": {},
     "output_type": "execute_result"
    }
   ],
   "source": [
    "df.describe(exclude=np.number)\n",
    "#this excludes all numeric columns"
   ]
  },
  {
   "cell_type": "code",
   "execution_count": 33,
   "id": "c3e57277-b025-4937-b232-b4b01e8ab505",
   "metadata": {},
   "outputs": [
    {
     "data": {
      "text/plain": [
       "<Axes: >"
      ]
     },
     "execution_count": 33,
     "metadata": {},
     "output_type": "execute_result"
    },
    {
     "data": {
      "image/png": "[encoded data removed]",
      "text/plain": [
       "<Figure size 640x480 with 1 Axes>"
      ]
     },
     "metadata": {},
     "output_type": "display_data"
    }
   ],
   "source": [
    "df.plot()"
   ]
  },
  {
   "cell_type": "code",
   "execution_count": 34,
   "id": "5e28d293-7d2a-4bd7-b1db-1fc79e314646",
   "metadata": {},
   "outputs": [
    {
     "data": {
      "image/png": "[encoded data removed]",
      "text/plain": [
       "<Figure size 640x480 with 1 Axes>"
      ]
     },
     "metadata": {},
     "output_type": "display_data"
    }
   ],
   "source": [
    "ax1 = df.plot(kind='scatter', x='price', y='carat', color='r')    \n",
    "ax2 = df.plot(kind='scatter', x='price', y='depth', color='g', ax=ax1) \n",
    "ax2 = df.plot(kind='scatter', x='price', y='table', color='y', ax=ax1) \n",
    "#print(ax1 == ax2)  # True"
   ]
  },
  {
   "cell_type": "code",
   "execution_count": 35,
   "id": "7248c7a8-1cba-4409-9bdf-7b9a322032e8",
   "metadata": {},
   "outputs": [],
   "source": [
    "X, y = df.drop('price', axis=1), df[['price']] #drop price from X, assign price to y"
   ]
  },
  {
   "cell_type": "code",
   "execution_count": 36,
   "id": "d61ffb8f-969d-4a2d-8357-65c7cf37bdeb",
   "metadata": {},
   "outputs": [
    {
     "data": {
      "text/plain": [
       "['cut', 'color', 'clarity']"
      ]
     },
     "execution_count": 36,
     "metadata": {},
     "output_type": "execute_result"
    }
   ],
   "source": [
    "cats = X.select_dtypes(exclude=np.number).columns.tolist()\n",
    "cats #['cut', 'color', 'clarity']"
   ]
  },
  {
   "cell_type": "code",
   "execution_count": 37,
   "id": "e0123ba1-3777-407a-9173-baac1cd039e4",
   "metadata": {},
   "outputs": [
    {
     "data": {
      "text/plain": [
       "carat       float64\n",
       "cut        category\n",
       "color      category\n",
       "clarity    category\n",
       "depth       float64\n",
       "table       float64\n",
       "x           float64\n",
       "y           float64\n",
       "z           float64\n",
       "dtype: object"
      ]
     },
     "execution_count": 37,
     "metadata": {},
     "output_type": "execute_result"
    }
   ],
   "source": [
    "for col in cats:\n",
    "   X[col] = X[col].astype('category')\n",
    "X.dtypes #not they are category data types"
   ]
  },
  {
   "cell_type": "markdown",
   "id": "088933a1-9965-4a96-8d34-c30c9dc22452",
   "metadata": {},
   "source": [
    "# Train Test Split"
   ]
  },
  {
   "cell_type": "code",
   "execution_count": 38,
   "id": "0965b124-c560-4d04-ad9e-8b59342ece78",
   "metadata": {},
   "outputs": [],
   "source": [
    "X_train, X_test, y_train, y_test = train_test_split(X, y, random_state=1, test_size=0.33)"
   ]
  },
  {
   "cell_type": "code",
   "execution_count": 39,
   "id": "ba39c20c-a63a-454b-a9fe-fb78b11bea67",
   "metadata": {},
   "outputs": [],
   "source": [
    "dtrain_reg = xgb.DMatrix(X_train, y_train, enable_categorical=True) #train dataset\n",
    "dtest_reg = xgb.DMatrix(X_test, y_test, enable_categorical=True) #test dataset"
   ]
  },
  {
   "cell_type": "markdown",
   "id": "2984b8a6-dff3-4491-b8a3-e11324621f2c",
   "metadata": {},
   "source": [
    "# Training"
   ]
  },
  {
   "cell_type": "code",
   "execution_count": 40,
   "id": "55782f85-bcbc-4a57-83d7-8f311f8fe2cc",
   "metadata": {},
   "outputs": [],
   "source": [
    "#Now, we set another parameter called num_boost_round, which stands for number of boosting rounds. \n",
    "#Internally, XGBoost minimizes the loss function RMSE in small incremental rounds\n",
    "params = {\"objective\": \"reg:squarederror\", \n",
    "          \"tree_method\": \"hist\", #gpu_hist\n",
    "          \"max_depth\": 6, #default 6\n",
    "          \"eta\": 0.2, #alias is learning_rate. Default 0.3. 0 to 1\n",
    "          \"colsample_bytree\": 0.3, \n",
    "          \"alpha\": 10, \n",
    "          \"lambda\": 1, \n",
    "          #\"n_estimators\": 100\n",
    "         } \n",
    "n = 100 #The ideal number of rounds is found through hyperparameter tuning\n",
    "model = xgb.train(\n",
    "   params=params,\n",
    "   dtrain=dtrain_reg,\n",
    "   num_boost_round=n,\n",
    ")\n",
    "\n",
    "#max_depth: Maximum depth of a tree. Increasing this value will make the model more complex and more likely to overfit\n",
    "\n",
    "#eta alias is learning rate. Step size shrinkage used in update to prevents overfitting. \n",
    "#After each boosting step, we can directly get the weights of new features, and eta shrinks the feature weights to make the boosting \n",
    "#process more conservative\n",
    "\n",
    "#alpha: L1 regularization term on weights. Increasing this value will make model more conservative. Values are 0 to infinity\n",
    "\n",
    "#lambda L2 regularization term on weights. Increasing this value will make model more conservative. Default 1. Values are 0 to infinity"
   ]
  },
  {
   "cell_type": "markdown",
   "id": "3ddbfe57-b434-47ea-9886-cfb4affd7cab",
   "metadata": {},
   "source": [
    "# Predicting"
   ]
  },
  {
   "cell_type": "code",
   "execution_count": 41,
   "id": "6f8fcdde-017d-49cf-9796-3bdb3def3cf2",
   "metadata": {},
   "outputs": [],
   "source": [
    "#This step of the process is called model evaluation (or inference). Once you generate predictions with predict, \n",
    "#you pass them inside mean_squared_error function of Sklearn to compare against y_test:\n",
    "preds = model.predict(dtest_reg)"
   ]
  },
  {
   "cell_type": "code",
   "execution_count": 43,
   "id": "7d376035-e4d8-40dd-a96c-4f1904fc5bdc",
   "metadata": {},
   "outputs": [
    {
     "name": "stdout",
     "output_type": "stream",
     "text": [
      "RMSE of the base model: 642.513\n"
     ]
    }
   ],
   "source": [
    "rmse = mean_squared_error(y_test, preds, squared=False) #use this one\n",
    "print(f\"RMSE of the base model: {rmse:.3f}\") #the lower the value the better"
   ]
  },
  {
   "cell_type": "code",
   "execution_count": 44,
   "id": "26a52399-3087-4c42-bc99-5989122bdbf7",
   "metadata": {},
   "outputs": [
    {
     "name": "stdout",
     "output_type": "stream",
     "text": [
      "Accuracy: 0.19%\n"
     ]
    }
   ],
   "source": [
    "#To get the accuracy of the model. But we cannot really use a % because it is not a class prediction\n",
    "#but I am leaving this code here for future reference\n",
    "predictions = [round(value) for value in preds]\n",
    "accuracy = accuracy_score(y_test, predictions)\n",
    "print(\"Accuracy: %.2f%%\" % (accuracy * 100.0))"
   ]
  },
  {
   "cell_type": "code",
   "execution_count": 45,
   "id": "2f897f93-3d6e-4252-a2cd-cd19e778ce60",
   "metadata": {},
   "outputs": [
    {
     "data": {
      "text/plain": [
       "{'carat': 514899872.0,\n",
       " 'cut': 17794148.0,\n",
       " 'color': 107500512.0,\n",
       " 'clarity': 209148592.0,\n",
       " 'depth': 5224058.0,\n",
       " 'table': 7148252.5,\n",
       " 'x': 1346932992.0,\n",
       " 'y': 304049056.0,\n",
       " 'z': 184995600.0}"
      ]
     },
     "execution_count": 45,
     "metadata": {},
     "output_type": "execute_result"
    }
   ],
   "source": [
    "model.get_score(importance_type='gain')"
   ]
  },
  {
   "cell_type": "markdown",
   "id": "14288a12-6e60-4b23-a85a-e3d38937c215",
   "metadata": {},
   "source": [
    "# Validation sets to make training more accurate and to see model output"
   ]
  },
  {
   "cell_type": "code",
   "execution_count": 46,
   "id": "bc241e53-a371-492c-804a-c837d6597f0f",
   "metadata": {},
   "outputs": [
    {
     "name": "stdout",
     "output_type": "stream",
     "text": [
      "[0]\ttrain-rmse:3996.59507\tvalidation-rmse:3919.98264\n",
      "[10]\ttrain-rmse:555.17578\tvalidation-rmse:586.20815\n",
      "[20]\ttrain-rmse:490.16594\tvalidation-rmse:550.67191\n",
      "[30]\ttrain-rmse:462.41702\tvalidation-rmse:543.92352\n",
      "[40]\ttrain-rmse:444.30952\tvalidation-rmse:541.00993\n",
      "[50]\ttrain-rmse:430.15756\tvalidation-rmse:540.73603\n",
      "[60]\ttrain-rmse:415.92274\tvalidation-rmse:539.50987\n",
      "[70]\ttrain-rmse:403.80283\tvalidation-rmse:540.31181\n",
      "[80]\ttrain-rmse:391.51499\tvalidation-rmse:539.73747\n",
      "[90]\ttrain-rmse:380.23018\tvalidation-rmse:539.48709\n",
      "[99]\ttrain-rmse:372.74007\tvalidation-rmse:539.59367\n"
     ]
    }
   ],
   "source": [
    "params = {\"objective\": \"reg:squarederror\", \"tree_method\": \"hist\"}\n",
    "n = 100\n",
    "\n",
    "#Next, we create a list of two tuples that each contain two elements. \n",
    "#The first element is the array for the model to evaluate, and the second is the array’s name.\n",
    "evals = [(dtrain_reg, \"train\"), (dtest_reg, \"validation\")]\n",
    "\n",
    "#By passing evals, we can see the model performance after each round\n",
    "model = xgb.train(\n",
    "   params=params,\n",
    "   dtrain=dtrain_reg,\n",
    "   num_boost_round=n,\n",
    "   evals=evals,\n",
    "   verbose_eval=10 # Every ten rounds\n",
    ")"
   ]
  },
  {
   "cell_type": "markdown",
   "id": "4b4ffcb7-e273-4253-8495-0c8465493cfa",
   "metadata": {},
   "source": [
    "# Feature importance"
   ]
  },
  {
   "cell_type": "code",
   "execution_count": 16,
   "id": "43cbe83a-d17e-44a1-8a3a-00207da22229",
   "metadata": {},
   "outputs": [
    {
     "data": {
      "text/plain": [
       "{'carat': 713962368.0,\n",
       " 'cut': 5531280.0,\n",
       " 'color': 41403012.0,\n",
       " 'clarity': 103800296.0,\n",
       " 'depth': 3436376.5,\n",
       " 'table': 2808165.75,\n",
       " 'x': 4663711.0,\n",
       " 'y': 918509632.0,\n",
       " 'z': 22283666.0}"
      ]
     },
     "execution_count": 16,
     "metadata": {},
     "output_type": "execute_result"
    }
   ],
   "source": [
    "model.get_score(importance_type='gain')"
   ]
  },
  {
   "cell_type": "markdown",
   "id": "a3a1d2ea-e5fa-40e1-bf13-5b30157a91b6",
   "metadata": {},
   "source": [
    "# What about early stopping?"
   ]
  },
  {
   "cell_type": "code",
   "execution_count": 47,
   "id": "3bfc481a-f80e-46a8-9803-f16aa9a50f42",
   "metadata": {},
   "outputs": [
    {
     "name": "stdout",
     "output_type": "stream",
     "text": [
      "[0]\tvalidation-rmse:3919.98264\ttrain-rmse:3996.59507\n",
      "[100]\tvalidation-rmse:539.56878\ttrain-rmse:372.68101\n",
      "[200]\tvalidation-rmse:548.84965\ttrain-rmse:297.91997\n",
      "[300]\tvalidation-rmse:557.67300\ttrain-rmse:250.33257\n",
      "[400]\tvalidation-rmse:565.14598\ttrain-rmse:213.85593\n",
      "[500]\tvalidation-rmse:568.83574\ttrain-rmse:187.82098\n",
      "[600]\tvalidation-rmse:571.14874\ttrain-rmse:165.11441\n",
      "[700]\tvalidation-rmse:573.37402\ttrain-rmse:147.91758\n",
      "[800]\tvalidation-rmse:573.93286\ttrain-rmse:133.79750\n",
      "[900]\tvalidation-rmse:574.86780\ttrain-rmse:122.41110\n",
      "[1000]\tvalidation-rmse:575.99056\ttrain-rmse:113.58255\n",
      "[1100]\tvalidation-rmse:577.09420\ttrain-rmse:103.36037\n",
      "[1200]\tvalidation-rmse:577.77186\ttrain-rmse:94.85626\n",
      "[1300]\tvalidation-rmse:578.45115\ttrain-rmse:88.28392\n",
      "[1400]\tvalidation-rmse:578.86920\ttrain-rmse:82.06916\n",
      "[1500]\tvalidation-rmse:579.34295\ttrain-rmse:76.78694\n",
      "[1600]\tvalidation-rmse:579.88471\ttrain-rmse:71.56056\n",
      "[1700]\tvalidation-rmse:580.41998\ttrain-rmse:66.79429\n",
      "[1800]\tvalidation-rmse:580.80225\ttrain-rmse:62.74099\n",
      "[1900]\tvalidation-rmse:581.04364\ttrain-rmse:59.04099\n",
      "[2000]\tvalidation-rmse:581.20536\ttrain-rmse:55.71883\n",
      "[2100]\tvalidation-rmse:581.36510\ttrain-rmse:52.61285\n",
      "[2200]\tvalidation-rmse:581.67200\ttrain-rmse:49.50515\n",
      "[2300]\tvalidation-rmse:581.91111\ttrain-rmse:47.05408\n",
      "[2400]\tvalidation-rmse:582.04320\ttrain-rmse:44.78140\n",
      "[2500]\tvalidation-rmse:582.13190\ttrain-rmse:42.89762\n",
      "[2600]\tvalidation-rmse:582.29394\ttrain-rmse:40.87981\n",
      "[2700]\tvalidation-rmse:582.38062\ttrain-rmse:38.89928\n",
      "[2800]\tvalidation-rmse:582.55663\ttrain-rmse:37.24730\n",
      "[2900]\tvalidation-rmse:582.65239\ttrain-rmse:35.59952\n",
      "[3000]\tvalidation-rmse:582.78078\ttrain-rmse:34.16686\n",
      "[3100]\tvalidation-rmse:582.85972\ttrain-rmse:32.71023\n",
      "[3200]\tvalidation-rmse:582.93202\ttrain-rmse:31.41977\n",
      "[3300]\tvalidation-rmse:582.99221\ttrain-rmse:30.29837\n",
      "[3400]\tvalidation-rmse:582.98074\ttrain-rmse:29.23810\n",
      "[3500]\tvalidation-rmse:583.04366\ttrain-rmse:28.40107\n",
      "[3600]\tvalidation-rmse:583.14240\ttrain-rmse:27.48226\n",
      "[3700]\tvalidation-rmse:583.20936\ttrain-rmse:26.59379\n",
      "[3800]\tvalidation-rmse:583.25156\ttrain-rmse:25.81898\n",
      "[3900]\tvalidation-rmse:583.32307\ttrain-rmse:25.06589\n",
      "[4000]\tvalidation-rmse:583.39877\ttrain-rmse:24.29199\n",
      "[4100]\tvalidation-rmse:583.44466\ttrain-rmse:23.59532\n",
      "[4200]\tvalidation-rmse:583.53952\ttrain-rmse:23.08072\n",
      "[4300]\tvalidation-rmse:583.56751\ttrain-rmse:22.50799\n",
      "[4400]\tvalidation-rmse:583.61713\ttrain-rmse:22.02554\n",
      "[4500]\tvalidation-rmse:583.63684\ttrain-rmse:21.62546\n",
      "[4600]\tvalidation-rmse:583.67170\ttrain-rmse:21.16559\n",
      "[4700]\tvalidation-rmse:583.68522\ttrain-rmse:20.73708\n",
      "[4800]\tvalidation-rmse:583.68375\ttrain-rmse:20.38427\n",
      "[4900]\tvalidation-rmse:583.65095\ttrain-rmse:19.97078\n",
      "[4999]\tvalidation-rmse:583.67960\ttrain-rmse:19.68628\n"
     ]
    }
   ],
   "source": [
    "#When validation loss starts increaing, we kinda want to stop\n",
    "#XGBoost starts to overfit and memorize the dataset. This, in turn, \n",
    "#leads to validation performance drop because the model is memorizing instead of generalizing\n",
    "\n",
    "params = {\"objective\": \"reg:squarederror\", \"tree_method\": \"hist\"}\n",
    "n = 5000\n",
    "\n",
    "evals = [(dtest_reg, \"validation\"), (dtrain_reg, \"train\")]\n",
    "model = xgb.train(\n",
    "   params=params,\n",
    "   dtrain=dtrain_reg,\n",
    "   num_boost_round=n,\n",
    "   evals=evals,\n",
    "   verbose_eval=100,\n",
    "   early_stopping_rounds=50\n",
    ")"
   ]
  },
  {
   "cell_type": "markdown",
   "id": "f0b799f6-0dea-4778-b845-4ae43162ed1b",
   "metadata": {},
   "source": [
    "# XGBoost Cross-Validation"
   ]
  },
  {
   "cell_type": "code",
   "execution_count": 106,
   "id": "3d559c9d-c57f-43b0-afa0-3106416761b3",
   "metadata": {},
   "outputs": [
    {
     "data": {
      "text/html": [
       "<div>\n",
       "<style scoped>\n",
       "    .dataframe tbody tr th:only-of-type {\n",
       "        vertical-align: middle;\n",
       "    }\n",
       "\n",
       "    .dataframe tbody tr th {\n",
       "        vertical-align: top;\n",
       "    }\n",
       "\n",
       "    .dataframe thead th {\n",
       "        text-align: right;\n",
       "    }\n",
       "</style>\n",
       "<table border=\"1\" class=\"dataframe\">\n",
       "  <thead>\n",
       "    <tr style=\"text-align: right;\">\n",
       "      <th></th>\n",
       "      <th>train-rmse-mean</th>\n",
       "      <th>train-rmse-std</th>\n",
       "      <th>test-rmse-mean</th>\n",
       "      <th>test-rmse-std</th>\n",
       "    </tr>\n",
       "  </thead>\n",
       "  <tbody>\n",
       "    <tr>\n",
       "      <th>0</th>\n",
       "      <td>3985.648654</td>\n",
       "      <td>10.343596</td>\n",
       "      <td>3986.913623</td>\n",
       "      <td>41.642778</td>\n",
       "    </tr>\n",
       "    <tr>\n",
       "      <th>1</th>\n",
       "      <td>2848.365726</td>\n",
       "      <td>8.014086</td>\n",
       "      <td>2851.020437</td>\n",
       "      <td>28.028733</td>\n",
       "    </tr>\n",
       "    <tr>\n",
       "      <th>2</th>\n",
       "      <td>2063.401458</td>\n",
       "      <td>4.637773</td>\n",
       "      <td>2068.629977</td>\n",
       "      <td>19.969459</td>\n",
       "    </tr>\n",
       "    <tr>\n",
       "      <th>3</th>\n",
       "      <td>1521.493751</td>\n",
       "      <td>3.874078</td>\n",
       "      <td>1530.496272</td>\n",
       "      <td>13.592330</td>\n",
       "    </tr>\n",
       "    <tr>\n",
       "      <th>4</th>\n",
       "      <td>1156.827103</td>\n",
       "      <td>2.991735</td>\n",
       "      <td>1170.413316</td>\n",
       "      <td>11.695597</td>\n",
       "    </tr>\n",
       "  </tbody>\n",
       "</table>\n",
       "</div>"
      ],
      "text/plain": [
       "   train-rmse-mean  train-rmse-std  test-rmse-mean  test-rmse-std\n",
       "0      3985.648654       10.343596     3986.913623      41.642778\n",
       "1      2848.365726        8.014086     2851.020437      28.028733\n",
       "2      2063.401458        4.637773     2068.629977      19.969459\n",
       "3      1521.493751        3.874078     1530.496272      13.592330\n",
       "4      1156.827103        2.991735     1170.413316      11.695597"
      ]
     },
     "execution_count": 106,
     "metadata": {},
     "output_type": "execute_result"
    }
   ],
   "source": [
    "#Since we try to find the best value of a hyperparameter by comparing the validation performance of the model on the test set, \n",
    "#we will end up with a model that is configured to perform well only on that particular test set. Instead, we want a model that performs \n",
    "#well across the board — on any test set we throw at it.\n",
    "\n",
    "#A possible workaround is splitting the data into three sets. The model trains on the first set, the second set is used for \n",
    "#evaluation and hyperparameter tuning, and the third is the final one we test the model before production.\n",
    "\n",
    "#But when data is limited, splitting data into three sets will make the training set sparse, which hurts model performance.\n",
    "\n",
    "#The solution to all these problems is cross-validation. In cross-validation, we still have two sets: training and testing.\n",
    "\n",
    "#While the test set waits in the corner, we split the training into 3, 5, 7, or k splits or folds. Then, we train the model k times. \n",
    "#Each time, we use k-1 parts for training and the final kth part for validation. This process is called k-fold cross-validation:\n",
    "\n",
    "params = {\"objective\": \"reg:squarederror\", \"tree_method\": \"hist\"}\n",
    "n = 5000\n",
    "\n",
    "results = xgb.cv(\n",
    "   params, \n",
    "   dtrain_reg,\n",
    "   num_boost_round=n,\n",
    "   nfold=5,\n",
    "   early_stopping_rounds=20\n",
    ")\n",
    "results.head()"
   ]
  },
  {
   "cell_type": "code",
   "execution_count": 108,
   "id": "6e44a7ad-779a-4857-b8f1-6a5664d4a91a",
   "metadata": {},
   "outputs": [
    {
     "data": {
      "text/plain": [
       "550.7196748119261"
      ]
     },
     "execution_count": 108,
     "metadata": {},
     "output_type": "execute_result"
    }
   ],
   "source": [
    "best_rmse = results['test-rmse-mean'].min()\n",
    "best_rmse\n",
    "\n",
    "#Note that this method of cross-validation is used to see the true performance of the model. \n",
    "#Once satisfied with its score, you must retrain it on the full data before deployment."
   ]
  },
  {
   "cell_type": "code",
   "execution_count": null,
   "id": "936d0336-d42b-4b61-b3bd-2b2ba1af6f81",
   "metadata": {},
   "outputs": [],
   "source": []
  },
  {
   "cell_type": "code",
   "execution_count": null,
   "id": "a4fac4ab-d5b9-47c0-9297-675e9d31e8a5",
   "metadata": {},
   "outputs": [],
   "source": []
  }
 ],
 "metadata": {
  "kernelspec": {
   "display_name": "new_test_env",
   "language": "python",
   "name": "new_test_env"
  },
  "language_info": {
   "codemirror_mode": {
    "name": "ipython",
    "version": 3
   },
   "file_extension": ".py",
   "mimetype": "text/x-python",
   "name": "python",
   "nbconvert_exporter": "python",
   "pygments_lexer": "ipython3",
   "version": "3.11.7"
  }
 },
 "nbformat": 4,
 "nbformat_minor": 5
}
